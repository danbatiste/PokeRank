{
 "cells": [
  {
   "cell_type": "code",
   "execution_count": 8,
   "metadata": {},
   "outputs": [
    {
     "name": "stdout",
     "output_type": "stream",
     "text": [
      "Starting on gen 1\n"
     ]
    },
    {
     "name": "stderr",
     "output_type": "stream",
     "text": [
      "C:\\Users\\durbi\\AppData\\Local\\Programs\\Python\\Python37\\lib\\site-packages\\ipykernel_launcher.py:98: SettingWithCopyWarning: \n",
      "A value is trying to be set on a copy of a slice from a DataFrame.\n",
      "Try using .loc[row_indexer,col_indexer] = value instead\n",
      "\n",
      "See the caveats in the documentation: https://pandas.pydata.org/pandas-docs/stable/user_guide/indexing.html#returning-a-view-versus-a-copy\n"
     ]
    },
    {
     "name": "stdout",
     "output_type": "stream",
     "text": [
      "Finished standings for gen 1\n",
      "Created sorted_by_att_wins.csv\n",
      "Created sorted_by_att_draws.csv\n",
      "Created sorted_by_att_losses.csv\n",
      "Created sorted_by_def_wins.csv\n",
      "Created sorted_by_def_draws.csv\n",
      "Created sorted_by_def_losses.csv\n"
     ]
    }
   ],
   "source": [
    "import pandas as pd\n",
    "import numpy as np\n",
    "import os\n",
    "\n",
    "def get_typelist(typedata):\n",
    "    if \"–\" in typedata:\n",
    "        return []\n",
    "    typelist = typedata.split(\", \")\n",
    "    typelist = [s.lower() for s in typelist if (not \"(no effect)\" in s)]\n",
    "    return typelist\n",
    "\n",
    "def get_noeffectlist(typedata):\n",
    "    noeffectlist = typedata.split(\", \")\n",
    "    noeffectlist = [s.lower() for s in noeffectlist if (\"(no effect)\" in s)]\n",
    "    noeffectlist = [s.replace(\" (no effect)\", \"\") for s in noeffectlist]\n",
    "    return noeffectlist\n",
    "\n",
    "df = pd.read_csv(\"pokemon_data/pokemon.csv\")\n",
    "ptype_df = pd.read_csv(\"pokemon_data/pokemon_type_matchup.csv\")\n",
    "ptype_df.columns = \"type strong_against weak_against resistant_to weak_to\".split()\n",
    "\n",
    "# Get noeffect data\n",
    "ptype_df[\"att_no_effect\"] = ptype_df[\"weak_against\"].apply(get_noeffectlist)\n",
    "ptype_df[\"def_no_effect\"] = ptype_df[\"resistant_to\"].apply(get_noeffectlist)\n",
    "\n",
    "\n",
    "# Format all columns\n",
    "ptype_df[\"type\"] = ptype_df[\"type\"].apply(lambda s: s.lower())\n",
    "\n",
    "for column_name in ptype_df.columns[1:-2]:\n",
    "    if not (type(ptype_df[column_name].to_list()[0]) == list):\n",
    "        ptype_df[column_name] = ptype_df[column_name].apply(get_typelist)\n",
    "\n",
    "def matchup(types1, types2):\n",
    "    type1_attack_score = 0\n",
    "    type1_def_score = 0\n",
    "    \n",
    "    for type1 in types1:\n",
    "        if type1 is np.nan:\n",
    "                continue\n",
    "        type1_data = ptype_df[ptype_df[\"type\"] == type1]\n",
    "        for type2 in types2:\n",
    "            if type2 is np.nan:\n",
    "                continue\n",
    "\n",
    "            #type2_data = ptype_df[ptype_df[\"type\"] == type2]\n",
    "            type1_attack_score += len([\n",
    "                ptype for ptype in type1_data[\"strong_against\"].values[0] if ptype == type2\n",
    "            ])\n",
    "            type1_attack_score -= len([\n",
    "                ptype for ptype in type1_data[\"weak_against\"].values[0]if ptype == type2\n",
    "            ])\n",
    "            type1_attack_score -= 1000*len([\n",
    "                ptype for ptype in type1_data[\"att_no_effect\"].values[0] if ptype == type2\n",
    "            ])\n",
    "\n",
    "            type1_def_score += len([\n",
    "                ptype for ptype in type1_data[\"resistant_to\"].values[0] if ptype == type2\n",
    "            ])\n",
    "            type1_def_score -= len([\n",
    "                ptype for ptype in type1_data[\"weak_to\"].values[0] if ptype == type2\n",
    "            ])\n",
    "            type1_def_score += 1000*len([\n",
    "                ptype for ptype in type1_data[\"def_no_effect\"].values[0] if ptype == type2\n",
    "            ])\n",
    "        #print(f\"{type1} {type2} {type1_attack_score} {type1_def_score}\")\n",
    "\n",
    "    return type1_attack_score, type1_def_score\n",
    "\n",
    "\n",
    "def get_standings_optimized(pokemon, df_gen):\n",
    "    row = df_gen[\"name\"] == pokemon\n",
    "    types = df_gen[row][\"type1\"].values[0], df_gen[row][\"type2\"].values[0]\n",
    "\n",
    "\n",
    "    att_wins = lambda matchup_entry: matchup_entry[0] > 0\n",
    "    def_wins = lambda matchup_entry: matchup_entry[1] > 0\n",
    "\n",
    "    att_draws = lambda matchup_entry: matchup_entry[0] == 0\n",
    "    def_draws = lambda matchup_entry: matchup_entry[1] == 0\n",
    "\n",
    "    att_losses = lambda matchup_entry: matchup_entry[0] < 0\n",
    "    def_losses = lambda matchup_entry: matchup_entry[1] < 0\n",
    "    \n",
    "    matchups = df_gen[\"name\"].apply(\n",
    "        lambda pokemon2: (lambda pokemon2_entry: matchup(types, [pokemon2_entry[\"type1\"].values[0], pokemon2_entry[\"type2\"].values[0]]))(df_gen[df_gen[\"name\"] == pokemon2])\n",
    "    )\n",
    "    return [sum(matchups.apply(scoring_function)) for scoring_function in [\n",
    "        att_wins, att_draws, att_losses, def_wins, def_draws, def_losses\n",
    "    ]]\n",
    "\n",
    "\n",
    "def main(ptype_df=ptype_df, gen=3):\n",
    "    print(f\"Starting on gen {gen}\")\n",
    "\n",
    "    # Get generation-specific df\n",
    "    df_gen = df[df[\"generation\"] <= gen] # gen 3 and before, not just gen 3\n",
    "    df_gen[\"name\"] = df_gen[\"name\"].apply(lambda name: name.lower())\n",
    "\n",
    "    # Get standings against all pokemon\n",
    "    all_standings_optimized = df_gen[\"name\"].apply(lambda name: (name, get_standings_optimized(name, df_gen)))\n",
    "    print(f\"Finished standings for gen {gen}\")\n",
    "\n",
    "    # Clean and sort the data\n",
    "    data = all_standings_optimized.to_list()\n",
    "    columns = [\"name\", \"att_wins\", \"att_draws\", \"att_losses\", \"def_wins\", \"def_draws\", \"def_losses\"]\n",
    "\n",
    "    standings_df = pd.DataFrame([[x[0]] + x[1] for x in data], columns=columns)\n",
    "\n",
    "    # Set up folder for gen's data\n",
    "    pokerank_data_folder = f\"gen{gen}_pokeranks\"\n",
    "    os.makedirs(pokerank_data_folder, exist_ok=True)\n",
    "\n",
    "    # Create a csv for each method of sorting\n",
    "    for category in columns[1:]:\n",
    "        sorted_df = standings_df.sort_values(by=category, ascending=False)\n",
    "        sorted_df.to_csv(f\"{pokerank_data_folder}/sorted_by_{category}.csv\")\n",
    "        print(f\"Created sorted_by_{category}.csv\")\n",
    "\n",
    "main(gen=1)"
   ]
  },
  {
   "cell_type": "code",
   "execution_count": 6,
   "metadata": {},
   "outputs": [
    {
     "data": {
      "text/plain": [
       "{1, 2, 3, 4, 5, 6, 7}"
      ]
     },
     "execution_count": 6,
     "metadata": {},
     "output_type": "execute_result"
    }
   ],
   "source": [
    "import pandas as pd\n",
    "df = pd.read_csv(\"pokemon_data/pokemon.csv\")\n",
    "set(df[\"generation\"].values)"
   ]
  }
 ],
 "metadata": {
  "interpreter": {
   "hash": "c4a1fdbf7bc3b38def1652e5d7cd57826424323df7e86ba5e71b96ca4c7e5e08"
  },
  "kernelspec": {
   "display_name": "Python 3.7.9 64-bit",
   "language": "python",
   "name": "python3"
  },
  "language_info": {
   "codemirror_mode": {
    "name": "ipython",
    "version": 3
   },
   "file_extension": ".py",
   "mimetype": "text/x-python",
   "name": "python",
   "nbconvert_exporter": "python",
   "pygments_lexer": "ipython3",
   "version": "3.7.9"
  },
  "orig_nbformat": 4
 },
 "nbformat": 4,
 "nbformat_minor": 2
}
